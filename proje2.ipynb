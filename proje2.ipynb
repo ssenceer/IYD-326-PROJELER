{
 "cells": [
  {
   "cell_type": "code",
   "execution_count": 6,
   "metadata": {},
   "outputs": [
    {
     "data": {
      "image/png": "[encoded data removed]",
      "text/plain": [
       "<Figure size 1000x700 with 2 Axes>"
      ]
     },
     "metadata": {},
     "output_type": "display_data"
    },
    {
     "name": "stdout",
     "output_type": "stream",
     "text": [
      "Mean Squared Error: 0.46074074074074073\n",
      "R-squared: -0.8463710244863498\n",
      "Accuracy: 0.5392592592592592\n",
      "Precision: 0.6428571428571429\n",
      "Recall: 0.08359133126934984\n",
      "Confusion Matrix:\n",
      " [[337  15]\n",
      " [296  27]]\n"
     ]
    }
   ],
   "source": [
    "import pandas as pd\n",
    "from sklearn.model_selection import train_test_split\n",
    "from sklearn.linear_model import LogisticRegression # Lineer Regresyon yerine sınıflandırma modeli\n",
    "from sklearn.metrics import accuracy_score, precision_score, recall_score, confusion_matrix, mean_squared_error, r2_score\n",
    "import matplotlib.pyplot as plt\n",
    "import seaborn as sns\n",
    "from sklearn.metrics import confusion_matrix\n",
    "\n",
    "# Veri setini yükle\n",
    "data = pd.read_csv(\"data.csv\")\n",
    "\n",
    "# 1. Veri Ön İşleme\n",
    "\n",
    "# Hedef değişkeni (örneğin, powertrain kategorisini tahmin edelim) belirleyin.\n",
    "data['powertrain_binary'] = (data['powertrain'] == 'BEV').astype(int) # BEV ise 1, değilse 0\n",
    "y = data['powertrain_binary'][data['parameter'] == 'EV sales']\n",
    "\n",
    "# Bağımsız değişkenleri (örneğin, 'year', 'region', 'value') seçin.\n",
    "features = ['year', 'region', 'value']\n",
    "X = pd.get_dummies(data[features][data['parameter'] == 'EV sales'], columns=['region'])\n",
    "\n",
    "# Veri setini eğitim ve test setlerine ayırın.\n",
    "X_train, X_test, y_train, y_test = train_test_split(X, y, test_size=0.2, random_state=42)\n",
    "\n",
    "# 2. Model Eğitimi\n",
    "\n",
    "# Bir tahmin modeli (örneğin, Lojistik Regresyon) oluşturun.\n",
    "model = LogisticRegression()\n",
    "\n",
    "# Modeli eğitim verileriyle eğitin.\n",
    "model.fit(X_train, y_train)\n",
    "\n",
    "# 3. Model Değerlendirme\n",
    "\n",
    "# Test verilerini kullanarak tahminlerde bulunun.\n",
    "y_pred = model.predict(X_test)\n",
    "\n",
    "# Model performansını değerlendirmek için metrikleri hesaplayın (MSE, R-kare, Accuracy, Precision, Recall)\n",
    "mse = mean_squared_error(y_test, y_pred)\n",
    "r2 = r2_score(y_test, y_pred)\n",
    "accuracy = accuracy_score(y_test, y_pred)\n",
    "precision = precision_score(y_test, y_pred)\n",
    "recall = recall_score(y_test, y_pred)\n",
    "cm = confusion_matrix(y_test, y_pred)\n",
    "\n",
    "# Grafik çizimi\n",
    "plt.figure(figsize=(10, 7))\n",
    "sns.heatmap(cm, annot=True, fmt='d', cmap='Blues')\n",
    "\n",
    "plt.xlabel('Predicted')\n",
    "plt.ylabel('Actual')\n",
    "plt.title('Confusion Matrix')\n",
    "\n",
    "plt.show()\n",
    "\n",
    "# Metrikleri yazdırın.\n",
    "print(f\"Mean Squared Error: {mse}\")\n",
    "print(f\"R-squared: {r2}\")\n",
    "print(f\"Accuracy: {accuracy}\")\n",
    "print(f\"Precision: {precision}\")\n",
    "print(f\"Recall: {recall}\")\n",
    "print(f\"Confusion Matrix:\\n {cm}\")"
   ]
  },
  {
   "cell_type": "markdown",
   "metadata": {},
   "source": [
    "### ekstradan başka bir model ile eğitim (bonus)"
   ]
  },
  {
   "cell_type": "code",
   "execution_count": 5,
   "metadata": {},
   "outputs": [
    {
     "name": "stdout",
     "output_type": "stream",
     "text": [
      "\n",
      "Decision Tree Regressor:\n",
      "Ortalama Karesel Hata (MSE): 0.31296296296296294\n",
      "R-kare (R2) Skoru: -0.2541668132564032\n",
      "\n",
      "Model Karşılaştırması:\n",
      "Logistic Regression MSE: 0.46, R2: -0.85\n",
      "Decision Tree MSE: 0.31, R2: -0.25\n"
     ]
    }
   ],
   "source": [
    "# Farklı model denemeleri (örnek olarak Decision Tree Regressor)\n",
    "from sklearn.tree import DecisionTreeRegressor\n",
    "\n",
    "# Decision Tree Regressor modelini oluştur\n",
    "tree_model = DecisionTreeRegressor(random_state=42)\n",
    "\n",
    "# Modeli eğitim verileriyle eğit\n",
    "tree_model.fit(X_train, y_train)\n",
    "\n",
    "# Test verileriyle tahmin yap\n",
    "tree_y_pred = tree_model.predict(X_test)\n",
    "\n",
    "# MSE ve R2 skorunu hesapla\n",
    "tree_mse = mean_squared_error(y_test, tree_y_pred)\n",
    "tree_r2 = r2_score(y_test, tree_y_pred)\n",
    "\n",
    "# Sonuçları yazdır\n",
    "print(\"\\nDecision Tree Regressor:\")\n",
    "print(\"Ortalama Karesel Hata (MSE):\", tree_mse)\n",
    "print(\"R-kare (R2) Skoru:\", tree_r2)\n",
    "\n",
    "# Model karşılaştırma\n",
    "print(\"\\nModel Karşılaştırması:\")\n",
    "print(f\"Logistic Regression MSE: {mse:.2f}, R2: {r2:.2f}\")\n",
    "print(f\"Decision Tree MSE: {tree_mse:.2f}, R2: {tree_r2:.2f}\")\n"
   ]
  }
 ],
 "metadata": {
  "kernelspec": {
   "display_name": "base",
   "language": "python",
   "name": "python3"
  },
  "language_info": {
   "codemirror_mode": {
    "name": "ipython",
    "version": 3
   },
   "file_extension": ".py",
   "mimetype": "text/x-python",
   "name": "python",
   "nbconvert_exporter": "python",
   "pygments_lexer": "ipython3",
   "version": "3.11.5"
  }
 },
 "nbformat": 4,
 "nbformat_minor": 2
}
