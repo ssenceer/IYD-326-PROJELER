{
 "cells": [
  {
   "cell_type": "code",
   "execution_count": 1,
   "metadata": {},
   "outputs": [
    {
     "ename": "ModuleNotFoundError",
     "evalue": "No module named 'pandas'",
     "output_type": "error",
     "traceback": [
      "\u001b[0;31m---------------------------------------------------------------------------\u001b[0m",
      "\u001b[0;31mModuleNotFoundError\u001b[0m                       Traceback (most recent call last)",
      "Cell \u001b[0;32mIn[1], line 1\u001b[0m\n\u001b[0;32m----> 1\u001b[0m \u001b[38;5;28;01mimport\u001b[39;00m \u001b[38;5;21;01mpandas\u001b[39;00m \u001b[38;5;28;01mas\u001b[39;00m \u001b[38;5;21;01mpd\u001b[39;00m\n\u001b[1;32m      2\u001b[0m \u001b[38;5;28;01mimport\u001b[39;00m \u001b[38;5;21;01mmatplotlib\u001b[39;00m\u001b[38;5;21;01m.\u001b[39;00m\u001b[38;5;21;01mpyplot\u001b[39;00m \u001b[38;5;28;01mas\u001b[39;00m \u001b[38;5;21;01mplt\u001b[39;00m\n\u001b[1;32m      3\u001b[0m \u001b[38;5;28;01mimport\u001b[39;00m \u001b[38;5;21;01mseaborn\u001b[39;00m \u001b[38;5;28;01mas\u001b[39;00m \u001b[38;5;21;01msns\u001b[39;00m\n",
      "\u001b[0;31mModuleNotFoundError\u001b[0m: No module named 'pandas'"
     ]
    }
   ],
   "source": [
    "import pandas as pd\n",
    "import matplotlib.pyplot as plt\n",
    "import seaborn as sns\n",
    "\n",
    "# Veri setini yükle\n",
    "data = pd.read_csv(\"data.csv\")\n",
    "\n",
    "# 1. Veri Temizleme\n",
    "\n",
    "# Eksik verileri kontrol et\n",
    "print(data.isnull().sum())\n",
    "\n",
    "# Gereksiz sütunları kaldır (örneğin, 'unit')\n",
    "data = data.drop('unit', axis=1)\n",
    "\n",
    "# 2. Keşifsel Veri Analizi (EDA)\n",
    "\n",
    "# Veri setinin genel yapısını incele\n",
    "print(data.describe())\n",
    "\n",
    "# Kategorik değişkenlerin dağılımını görselleştir\n",
    "sns.countplot(x='category', data=data)\n",
    "plt.title(\"Kategorilere Göre Dağılım\")\n",
    "plt.show()\n",
    "\n",
    "\n"
   ]
  },
  {
   "cell_type": "code",
   "execution_count": null,
   "metadata": {},
   "outputs": [],
   "source": []
  },
  {
   "cell_type": "code",
   "execution_count": null,
   "metadata": {},
   "outputs": [],
   "source": [
    "# Sayısal değişkenlerin dağılımını görselleştir\n",
    "sns.histplot(x='value', data=data)\n",
    "plt.title(\"Değerlerin Dağılımı\")\n",
    "plt.show()\n",
    "\n",
    "# Değişkenler arasındaki korelasyonu incele\n",
    "sns.heatmap(data.corr(), annot=True)\n",
    "plt.title(\"Değişkenler Arası Korelasyon\")\n",
    "plt.show()\n",
    "\"\"\" #bu kodları kullanabilirsiniz ama kodu çalıştırması çok uzun sürüyor\n",
    "\n",
    "# 3. Önemli Bulguların Görselleştirilmesi\n",
    "\n",
    "# Yıllara göre EV satışlarının trendini gösteren bir çizgi grafiği\n",
    "sns.lineplot(x='year', y='value', hue='powertrain', data=data[data['parameter'] == 'EV sales'])\n",
    "plt.title(\"Yıllara Göre EV Satış Trendi\")\n",
    "plt.show()\n",
    "\n",
    "# 2023 yılındaki EV satış payını pasta dilimleriyle gösteren grafik\n",
    "sales_2023 = data[(data['parameter'] == 'EV sales share') & (data['year'] == 2023)]\n",
    "plt.pie(sales_2023['value'], labels=sales_2023['region'], autopct='%1.1f%%')\n",
    "plt.title(\"2023 Yılında Bölgelere Göre EV Satış Payı\")\n",
    "plt.show()\n",
    "\n",
    "# 2023 yılındaki EV stok payını pasta dilimleriyle gösteren grafik\n",
    "stock_2023 = data[(data['parameter'] == 'EV stock share') & (data['year'] == 2023)]\n",
    "plt.pie(stock_2023['value'], labels=stock_2023['region'], autopct='%1.1f%%')\n",
    "plt.title(\"2023 Yılında Bölgelere Göre EV Stok Payı\")\n",
    "plt.show()"
   ]
  }
 ],
 "metadata": {
  "kernelspec": {
   "display_name": "base",
   "language": "python",
   "name": "python3"
  },
  "language_info": {
   "codemirror_mode": {
    "name": "ipython",
    "version": 3
   },
   "file_extension": ".py",
   "mimetype": "text/x-python",
   "name": "python",
   "nbconvert_exporter": "python",
   "pygments_lexer": "ipython3",
   "version": "3.9.6"
  }
 },
 "nbformat": 4,
 "nbformat_minor": 2
}
